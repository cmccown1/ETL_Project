{
 "cells": [
  {
   "cell_type": "markdown",
   "metadata": {},
   "source": [
    "# Initial data exploration"
   ]
  },
  {
   "cell_type": "code",
   "execution_count": 65,
   "metadata": {},
   "outputs": [],
   "source": [
    "import pandas as pd"
   ]
  },
  {
   "cell_type": "code",
   "execution_count": 66,
   "metadata": {},
   "outputs": [
    {
     "name": "stderr",
     "output_type": "stream",
     "text": [
      "C:\\Users\\cmcco\\Anaconda3\\envs\\PythonData\\lib\\site-packages\\IPython\\core\\interactiveshell.py:3049: DtypeWarning: Columns (5,6,11,16) have mixed types. Specify dtype option on import or set low_memory=False.\n",
      "  interactivity=interactivity, compiler=compiler, result=result)\n"
     ]
    }
   ],
   "source": [
    "complaint_df = pd.read_csv('Consumer_Complaints.csv')"
   ]
  },
  {
   "cell_type": "code",
   "execution_count": 67,
   "metadata": {},
   "outputs": [
    {
     "data": {
      "text/plain": [
       "Date received                   1356310\n",
       "Product                         1356310\n",
       "Sub-product                     1121144\n",
       "Issue                           1356309\n",
       "Sub-issue                        815886\n",
       "Consumer complaint narrative     419485\n",
       "Company public response          487979\n",
       "Company                         1356310\n",
       "State                           1334660\n",
       "ZIP code                        1234009\n",
       "Tags                             185303\n",
       "Consumer consent provided?       756690\n",
       "Submitted via                   1356310\n",
       "Date sent to company            1356310\n",
       "Company response to consumer    1356308\n",
       "Timely response?                1356310\n",
       "Consumer disputed?               768490\n",
       "Complaint ID                    1356310\n",
       "dtype: int64"
      ]
     },
     "execution_count": 67,
     "metadata": {},
     "output_type": "execute_result"
    }
   ],
   "source": [
    "# 1.35 million records\n",
    "complaint_df.count()"
   ]
  },
  {
   "cell_type": "code",
   "execution_count": 68,
   "metadata": {
    "scrolled": true
   },
   "outputs": [
    {
     "data": {
      "text/plain": [
       "Date received                      2812\n",
       "Product                              18\n",
       "Sub-product                          76\n",
       "Issue                               167\n",
       "Sub-issue                           219\n",
       "Consumer complaint narrative     400750\n",
       "Company public response              10\n",
       "Company                            5372\n",
       "State                                63\n",
       "ZIP code                          23002\n",
       "Tags                                  3\n",
       "Consumer consent provided?            4\n",
       "Submitted via                         6\n",
       "Date sent to company               2761\n",
       "Company response to consumer          8\n",
       "Timely response?                      2\n",
       "Consumer disputed?                    2\n",
       "Complaint ID                    1356310\n",
       "dtype: int64"
      ]
     },
     "execution_count": 68,
     "metadata": {},
     "output_type": "execute_result"
    }
   ],
   "source": [
    "# as you might expect, 'Complaint ID' is the unique identifier in this dataset.\n",
    "complaint_df.nunique()"
   ]
  },
  {
   "cell_type": "code",
   "execution_count": 69,
   "metadata": {},
   "outputs": [],
   "source": [
    "# convert 'Date reveceived' from string/object to datetime64\n",
    "complaint_df['Date received'] = pd.to_datetime(complaint_df['Date received'], format='%m/%d/%Y')"
   ]
  },
  {
   "cell_type": "code",
   "execution_count": 70,
   "metadata": {},
   "outputs": [],
   "source": [
    "# I don't think we'll use the following:\n",
    "\n",
    "# 'Consumer complaint narrative'\n",
    "# 'Company public response'\n",
    "# 'Tags'\n",
    "# 'Consumer consent provided?'\n",
    "# 'Submitted via'\n",
    "# 'Date sent to company'\n",
    "# 'Company response to consumer'\n",
    "# 'Timely response?'\n",
    "# 'Consumer disputed?'\n",
    "\n",
    "# These we might use:\n",
    "\n",
    "# 'Date received'\n",
    "# 'Product'\n",
    "# 'Sub-product' \n",
    "# 'Issue'\n",
    "# 'Sub-issue'\n",
    "# 'Company'\n",
    "# 'State'\n",
    "# 'ZIP code'\n",
    "# 'Complaint ID' -->primary key"
   ]
  },
  {
   "cell_type": "code",
   "execution_count": 71,
   "metadata": {},
   "outputs": [
    {
     "data": {
      "text/plain": [
       "array(['TN', 'TX', 'MI', 'MA', 'OH', 'NJ', 'VA', 'OK', 'AL', 'IL', 'NY',\n",
       "       'FL', 'KY', 'AZ', 'NE', 'NV', 'CA', 'NC', 'WI', 'OR', 'MN', 'CT',\n",
       "       'WY', 'MS', 'SC', 'WA', 'MO', 'GA', 'VT', 'NM', 'MD', 'CO', 'IN',\n",
       "       'AP', 'PA', nan, 'LA', 'UT', 'KS', 'SD', 'ND', 'PR', 'AR', 'DE',\n",
       "       'DC', 'NH', 'WV', 'IA', 'RI', 'HI', 'ID', 'ME', 'MT', 'AK', 'AE',\n",
       "       'UNITED STATES MINOR OUTLYING ISLANDS', 'VI', 'GU', 'AA', 'MP',\n",
       "       'MH', 'FM', 'AS', 'PW'], dtype=object)"
      ]
     },
     "execution_count": 71,
     "metadata": {},
     "output_type": "execute_result"
    }
   ],
   "source": [
    "# we'll probably want to remove some of these? At least the nan.\n",
    "complaint_df['State'].unique()"
   ]
  },
  {
   "cell_type": "code",
   "execution_count": 72,
   "metadata": {},
   "outputs": [
    {
     "data": {
      "text/plain": [
       "21650"
      ]
     },
     "execution_count": 72,
     "metadata": {},
     "output_type": "execute_result"
    }
   ],
   "source": [
    "# count of rows where 'State' is nan\n",
    "complaint_df['Complaint ID'].loc[complaint_df['State'].isna()].count()"
   ]
  },
  {
   "cell_type": "code",
   "execution_count": 73,
   "metadata": {},
   "outputs": [
    {
     "data": {
      "text/plain": [
       "Date received\n",
       "2011      2536\n",
       "2012     72373\n",
       "2013    108218\n",
       "2014    153047\n",
       "2015    168477\n",
       "2016    191472\n",
       "2017    242972\n",
       "2018    257366\n",
       "2019    159849\n",
       "Name: Complaint ID, dtype: int64"
      ]
     },
     "execution_count": 73,
     "metadata": {},
     "output_type": "execute_result"
    }
   ],
   "source": [
    "# should we focus on a single year, like 2018? Depends on other data sets?\n",
    "# complaints per year\n",
    "complaint_df['Complaint ID'].groupby(complaint_df['Date received'].map(lambda x: x.year)).count()"
   ]
  },
  {
   "cell_type": "code",
   "execution_count": 74,
   "metadata": {},
   "outputs": [
    {
     "data": {
      "text/plain": [
       "Product\n",
       "Mortgage                                                                        284052\n",
       "Credit reporting, credit repair services, or other personal consumer reports    263069\n",
       "Debt collection                                                                 257354\n",
       "Credit reporting                                                                140432\n",
       "Credit card                                                                      89190\n",
       "Bank account or service                                                          86206\n",
       "Credit card or prepaid card                                                      54417\n",
       "Student loan                                                                     53400\n",
       "Checking or savings account                                                      46602\n",
       "Consumer Loan                                                                    31604\n",
       "Vehicle loan or lease                                                            12849\n",
       "Money transfer, virtual currency, or money service                               11573\n",
       "Payday loan, title loan, or personal loan                                         9768\n",
       "Payday loan                                                                       5544\n",
       "Money transfers                                                                   5354\n",
       "Prepaid card                                                                      3819\n",
       "Other financial service                                                           1059\n",
       "Virtual currency                                                                    18\n",
       "Name: Complaint ID, dtype: int64"
      ]
     },
     "execution_count": 74,
     "metadata": {},
     "output_type": "execute_result"
    }
   ],
   "source": [
    "complaint_df['Complaint ID'].groupby(complaint_df['Product']).count().sort_values(ascending=False)"
   ]
  },
  {
   "cell_type": "code",
   "execution_count": 75,
   "metadata": {},
   "outputs": [
    {
     "data": {
      "text/plain": [
       "Sub-product\n",
       "Credit reporting                              258128\n",
       "Checking account                               93936\n",
       "Other mortgage                                 86636\n",
       "Conventional fixed mortgage                    70613\n",
       "I do not know                                  52729\n",
       "Other (i.e. phone, health club, etc.)          44546\n",
       "General-purpose credit card or charge card     42181\n",
       "Other debt                                     33905\n",
       "Conventional home mortgage                     32526\n",
       "FHA mortgage                                   32475\n",
       "Credit card                                    28698\n",
       "Conventional adjustable mortgage (ARM)         25380\n",
       "Non-federal student loan                       25165\n",
       "Federal student loan servicing                 23586\n",
       "Credit card debt                               23187\n",
       "Medical                                        21187\n",
       "Medical debt                                   18097\n",
       "Other bank product/service                     17825\n",
       "Vehicle loan                                   17782\n",
       "Installment loan                               12607\n",
       "Home equity loan or line of credit             11624\n",
       "Loan                                           10694\n",
       "Payday loan                                    10621\n",
       "Other type of mortgage                          9378\n",
       "Store credit card                               9182\n",
       "Savings account                                 8353\n",
       "VA mortgage                                     7920\n",
       "Private student loan                            7531\n",
       "Other banking product or service                7239\n",
       "Domestic (US) money transfer                    5995\n",
       "                                               ...  \n",
       "Federal student loan debt                       1952\n",
       "General-purpose prepaid card                    1864\n",
       "Private student loan debt                       1821\n",
       "General purpose card                            1752\n",
       "Title loan                                      1435\n",
       "CD (Certificate of Deposit)                     1383\n",
       "Credit repair services                           935\n",
       "Government benefit card                          741\n",
       "Second mortgage                                  662\n",
       "Payroll card                                     641\n",
       "Debt settlement                                  632\n",
       "Cashing a check without an account               625\n",
       "Mobile wallet                                    418\n",
       "Gift or merchant card                            402\n",
       "Government benefit payment card                  389\n",
       "Money order                                      372\n",
       "Check cashing                                    266\n",
       "Traveler's check or cashier's check              244\n",
       "Gift card                                        213\n",
       "ID prepaid card                                  207\n",
       "Check cashing service                            196\n",
       "Other special purpose card                       191\n",
       "Foreign currency exchange                        190\n",
       "Refund anticipation check                        170\n",
       "Pawn loan                                        119\n",
       "Credit repair                                    103\n",
       "Traveler’s/Cashier’s checks                       88\n",
       "Transit card                                      37\n",
       "Electronic Benefit Transfer / EBT card            12\n",
       "Student prepaid card                               6\n",
       "Name: Complaint ID, Length: 76, dtype: int64"
      ]
     },
     "execution_count": 75,
     "metadata": {},
     "output_type": "execute_result"
    }
   ],
   "source": [
    "complaint_df['Complaint ID'].groupby(complaint_df['Sub-product']).count().sort_values(ascending=False)"
   ]
  },
  {
   "cell_type": "code",
   "execution_count": 76,
   "metadata": {},
   "outputs": [
    {
     "data": {
      "text/plain": [
       "Issue\n",
       "Incorrect information on your report                                                158228\n",
       "Loan modification,collection,foreclosure                                            112311\n",
       "Incorrect information on credit report                                              102686\n",
       "Loan servicing, payments, escrow account                                             77333\n",
       "Cont'd attempts collect debt not owed                                                60684\n",
       "Problem with a credit reporting company's investigation into an existing problem     59971\n",
       "Attempts to collect debt not owed                                                    49084\n",
       "Account opening, closing, or management                                              37961\n",
       "Improper use of your report                                                          36790\n",
       "Communication tactics                                                                36741\n",
       "Disclosure verification of debt                                                      30798\n",
       "Managing an account                                                                  29249\n",
       "Written notification about debt                                                      26221\n",
       "Trouble during payment process                                                       26060\n",
       "Deposits and withdrawals                                                             22851\n",
       "False statements or representation                                                   21299\n",
       "Struggling to pay mortgage                                                           20392\n",
       "Managing the loan or lease                                                           19937\n",
       "Dealing with my lender or servicer                                                   17630\n",
       "Application, originator, mortgage broker                                             17229\n",
       "Credit reporting company's investigation                                             16883\n",
       "Billing disputes                                                                     15136\n",
       "Other                                                                                14779\n",
       "Dealing with your lender or servicer                                                 13575\n",
       "Problem with a purchase shown on your statement                                      13091\n",
       "Problems caused by my funds being low                                                11845\n",
       "Unable to get credit report/credit score                                             10859\n",
       "Took or threatened to take negative or legal action                                  10597\n",
       "Improper contact or sharing of info                                                  10069\n",
       "Problems when you are unable to pay                                                   9385\n",
       "                                                                                     ...  \n",
       "Loan payment wasn't credited to your account                                           168\n",
       "Excessive fees                                                                         154\n",
       "Convenience checks                                                                     149\n",
       "Lost or stolen money order                                                             137\n",
       "Lost or stolen check                                                                   128\n",
       "Money was taken from your bank account on the wrong day or for the wrong amount        125\n",
       "Problem adding money                                                                   121\n",
       "Vehicle was repossessed or sold the vehicle                                            118\n",
       "Unexpected/Other fees                                                                  103\n",
       "Advertising                                                                            100\n",
       "Was approved for a loan, but didn't receive the money                                   88\n",
       "Lender repossessed or sold the vehicle                                                  79\n",
       "Advertising, marketing or disclosures                                                   77\n",
       "Incorrect exchange rate                                                                 63\n",
       "Overdraft, savings or rewards features                                                  53\n",
       "Disclosures                                                                             49\n",
       "Credit limit changed                                                                    48\n",
       "Vehicle was damaged or destroyed the vehicle                                            40\n",
       "Problem with cash advance                                                               37\n",
       "Problem with overdraft                                                                  19\n",
       "Overdraft, savings, or rewards features                                                 17\n",
       "Was approved for a loan, but didn't receive money                                       16\n",
       "Problem with credit report or credit score                                               9\n",
       "Lender damaged or destroyed vehicle                                                      8\n",
       "Lender sold the property                                                                 7\n",
       "Property was sold                                                                        5\n",
       "Property was damaged or destroyed property                                               3\n",
       "Problem with an overdraft                                                                3\n",
       "Lender damaged or destroyed property                                                     3\n",
       "Cannot afford Payments                                                                   1\n",
       "Name: Complaint ID, Length: 167, dtype: int64"
      ]
     },
     "execution_count": 76,
     "metadata": {},
     "output_type": "execute_result"
    }
   ],
   "source": [
    "complaint_df['Complaint ID'].groupby(complaint_df['Issue']).count().sort_values(ascending=False)"
   ]
  },
  {
   "cell_type": "code",
   "execution_count": 77,
   "metadata": {},
   "outputs": [
    {
     "data": {
      "text/plain": [
       "Sub-issue\n",
       "Information belongs to someone else                                                 73977\n",
       "Their investigation did not fix an error on your report                             43446\n",
       "Account status                                                                      37057\n",
       "Debt is not mine                                                                    36729\n",
       "Information is not mine                                                             32384\n",
       "Account status incorrect                                                            30278\n",
       "Debt was paid                                                                       27177\n",
       "Account information incorrect                                                       26664\n",
       "Debt is not yours                                                                   26167\n",
       "Credit inquiries on your report that you don't recognize                            24094\n",
       "Not given enough info to verify debt                                                21813\n",
       "Frequent or repeated calls                                                          21484\n",
       "Didn't receive enough information to verify debt                                    18997\n",
       "Attempted to collect wrong amount                                                   16827\n",
       "Reporting company used your report improperly                                       11918\n",
       "Account terms                                                                       10995\n",
       "Debt was result of identity theft                                                   10148\n",
       "Deposits and withdrawals                                                            10034\n",
       "Credit card company isn't resolving a dispute about a purchase on your statement     8968\n",
       "Public record                                                                        8876\n",
       "Personal information incorrect                                                       7651\n",
       "Personal information                                                                 7529\n",
       "Old information reappears or never goes away                                         7316\n",
       "Public record information inaccurate                                                 7263\n",
       "Right to dispute notice not received                                                 7186\n",
       "Didn't receive notice of right to dispute                                            6527\n",
       "Problem getting my free annual report                                                6469\n",
       "No notice of investigation status/result                                             6418\n",
       "Problem with statement of dispute                                                    5907\n",
       "Reinserted previously deleted info                                                   5845\n",
       "                                                                                    ...  \n",
       "Problem with fees or penalties                                                         84\n",
       "Trouble getting a working replacement card                                             83\n",
       "Problem after you declared or threatened to declare bankruptcy                         76\n",
       "Confusing or misleading advertising about the card                                     75\n",
       "Problem with signing the paperwork                                                     68\n",
       "Credit card company forcing arbitration                                                65\n",
       "Problem when attempting to purchase vehicle at the end of the lease                    63\n",
       "Problem with renewal                                                                   57\n",
       "Denied loan                                                                            48\n",
       "Contacted you instead of your attorney                                                 46\n",
       "Problem with additional add-on products or services purchased with the loan            44\n",
       "Problem with convenience check                                                         40\n",
       "Trouble using the card to pay a bill                                                   39\n",
       "Filed for bankruptcy                                                                   39\n",
       "Problem adding money                                                                   37\n",
       "Problem with a trade-in                                                                31\n",
       "Problem extending the lease                                                            29\n",
       "Changes in terms from what was offered or advertised                                   25\n",
       "Overcharged for a purchase or transfer you did make with the card                      22\n",
       "Account sold or transferred to another company                                         21\n",
       "Overdraft charges                                                                      19\n",
       "Don't want a card provided by your employer or the government                          19\n",
       "Threatened to turn you in to immigration or deport you                                 10\n",
       "Problem with a check written from your prepaid card account                             9\n",
       "Qualified for a better loan than the one offered                                        8\n",
       "Insurance terms                                                                         6\n",
       "Incorrect information on your report                                                    4\n",
       "Was signed up for overdraft on card, but don't want to be                               3\n",
       "Other                                                                                   1\n",
       "Trouble using the card to send money to another person                                  1\n",
       "Name: Complaint ID, Length: 219, dtype: int64"
      ]
     },
     "execution_count": 77,
     "metadata": {},
     "output_type": "execute_result"
    }
   ],
   "source": [
    "complaint_df['Complaint ID'].groupby(complaint_df['Sub-issue']).count().sort_values(ascending=False)"
   ]
  }
 ],
 "metadata": {
  "kernelspec": {
   "display_name": "Python [conda env:PythonData] *",
   "language": "python",
   "name": "conda-env-PythonData-py"
  },
  "language_info": {
   "codemirror_mode": {
    "name": "ipython",
    "version": 3
   },
   "file_extension": ".py",
   "mimetype": "text/x-python",
   "name": "python",
   "nbconvert_exporter": "python",
   "pygments_lexer": "ipython3",
   "version": "3.6.8"
  },
  "toc": {
   "base_numbering": 1,
   "nav_menu": {},
   "number_sections": true,
   "sideBar": true,
   "skip_h1_title": false,
   "title_cell": "Table of Contents",
   "title_sidebar": "Contents",
   "toc_cell": false,
   "toc_position": {
    "height": "calc(100% - 180px)",
    "left": "10px",
    "top": "150px",
    "width": "358px"
   },
   "toc_section_display": true,
   "toc_window_display": true
  },
  "varInspector": {
   "cols": {
    "lenName": 16,
    "lenType": 16,
    "lenVar": 40
   },
   "kernels_config": {
    "python": {
     "delete_cmd_postfix": "",
     "delete_cmd_prefix": "del ",
     "library": "var_list.py",
     "varRefreshCmd": "print(var_dic_list())"
    },
    "r": {
     "delete_cmd_postfix": ") ",
     "delete_cmd_prefix": "rm(",
     "library": "var_list.r",
     "varRefreshCmd": "cat(var_dic_list()) "
    }
   },
   "types_to_exclude": [
    "module",
    "function",
    "builtin_function_or_method",
    "instance",
    "_Feature"
   ],
   "window_display": false
  }
 },
 "nbformat": 4,
 "nbformat_minor": 2
}
